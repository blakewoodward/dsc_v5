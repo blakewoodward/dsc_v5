{
 "cells": [
  {
   "cell_type": "markdown",
   "metadata": {},
   "source": [
    "This exercise will require you to pull some data from https://data.nasdaq.com/ (formerly Quandl API)."
   ]
  },
  {
   "cell_type": "markdown",
   "metadata": {},
   "source": [
    "As a first step, you will need to register a free account on the https://data.nasdaq.com/ website."
   ]
  },
  {
   "cell_type": "markdown",
   "metadata": {},
   "source": [
    "After you register, you will be provided with a unique API key, that you should store:\n",
    "\n",
    "*Note*: Use a `.env` file and put your key in there and `python-dotenv` to access it in this notebook. \n",
    "\n",
    "The code below uses a key that was used when generating this project but has since been deleted. Never submit your keys to source control. There is a `.env-example` file in this repository to illusrtate what you need. Copy that to a file called `.env` and use your own api key in that `.env` file. Make sure you also have a `.gitignore` file with a line for `.env` added to it. \n",
    "\n",
    "The standard Python gitignore is [here](https://github.com/github/gitignore/blob/master/Python.gitignore) you can just copy that. "
   ]
  },
  {
   "cell_type": "code",
   "execution_count": 1,
   "metadata": {},
   "outputs": [
    {
     "ename": "ModuleNotFoundError",
     "evalue": "No module named 'dotenv'",
     "output_type": "error",
     "traceback": [
      "\u001b[1;31m---------------------------------------------------------------------------\u001b[0m",
      "\u001b[1;31mModuleNotFoundError\u001b[0m                       Traceback (most recent call last)",
      "\u001b[1;32m<ipython-input-1-5da1d6b3c67a>\u001b[0m in \u001b[0;36m<module>\u001b[1;34m\u001b[0m\n\u001b[0;32m      1\u001b[0m \u001b[1;31m# get api key from your .env file\u001b[0m\u001b[1;33m\u001b[0m\u001b[1;33m\u001b[0m\u001b[1;33m\u001b[0m\u001b[0m\n\u001b[0;32m      2\u001b[0m \u001b[1;32mimport\u001b[0m \u001b[0mos\u001b[0m\u001b[1;33m\u001b[0m\u001b[1;33m\u001b[0m\u001b[0m\n\u001b[1;32m----> 3\u001b[1;33m \u001b[1;32mfrom\u001b[0m \u001b[0mdotenv\u001b[0m \u001b[1;32mimport\u001b[0m \u001b[0mload_dotenv\u001b[0m\u001b[1;33m\u001b[0m\u001b[1;33m\u001b[0m\u001b[0m\n\u001b[0m\u001b[0;32m      4\u001b[0m \u001b[1;33m\u001b[0m\u001b[0m\n\u001b[0;32m      5\u001b[0m \u001b[0mload_dotenv\u001b[0m\u001b[1;33m(\u001b[0m\u001b[1;33m)\u001b[0m\u001b[1;33m\u001b[0m\u001b[1;33m\u001b[0m\u001b[0m\n",
      "\u001b[1;31mModuleNotFoundError\u001b[0m: No module named 'dotenv'"
     ]
    }
   ],
   "source": [
    "# get api key from your .env file\n",
    "import os\n",
    "from dotenv import load_dotenv\n",
    "\n",
    "load_dotenv()\n",
    "API_KEY = os.getenv('NASDAQ_API_KEY')\n",
    "\n",
    "print(API_KEY)"
   ]
  },
  {
   "cell_type": "markdown",
   "metadata": {},
   "source": [
    "Nasdaq Data has a large number of data sources, but, unfortunately, most of them require a Premium subscription. Still, there are also a good number of free datasets."
   ]
  },
  {
   "cell_type": "markdown",
   "metadata": {},
   "source": [
    "For this mini project, we will focus on equities data from the Frankfurt Stock Exhange (FSE), which is available for free. We'll try and analyze the stock prices of a company called Carl Zeiss Meditec, which manufactures tools for eye examinations, as well as medical lasers for laser eye surgery: https://www.zeiss.com/meditec/int/home.html. The company is listed under the stock ticker AFX_X."
   ]
  },
  {
   "cell_type": "markdown",
   "metadata": {},
   "source": [
    "You can find the detailed Nasdaq Data API instructions here: https://docs.data.nasdaq.com/docs/in-depth-usage"
   ]
  },
  {
   "cell_type": "markdown",
   "metadata": {},
   "source": [
    "While there is a dedicated Python package for connecting to the Nasdaq API, we would prefer that you use the *requests* package, which can be easily downloaded using *pip* or *conda*. You can find the documentation for the package here: http://docs.python-requests.org/en/master/ "
   ]
  },
  {
   "cell_type": "markdown",
   "metadata": {},
   "source": [
    "Finally, apart from the *requests* package, you are encouraged to not use any third party Python packages, such as *pandas*, and instead focus on what's available in the Python Standard Library (the *collections* module might come in handy: https://pymotw.com/3/collections/).\n",
    "Also, since you won't have access to DataFrames, you are encouraged to us Python's native data structures - preferably dictionaries, though some questions can also be answered using lists.\n",
    "You can read more on these data structures here: https://docs.python.org/3/tutorial/datastructures.html"
   ]
  },
  {
   "cell_type": "markdown",
   "metadata": {},
   "source": [
    "Keep in mind that the JSON responses you will be getting from the API map almost one-to-one to Python's dictionaries. Unfortunately, they can be very nested, so make sure you read up on indexing dictionaries in the documentation provided above."
   ]
  },
  {
   "cell_type": "code",
   "execution_count": 3,
   "metadata": {},
   "outputs": [],
   "source": [
    "# First, import the relevant modules\n",
    "import requests as rsqt\n",
    "import collections as coll\n",
    "import json"
   ]
  },
  {
   "cell_type": "markdown",
   "metadata": {},
   "source": [
    "Note: API's can change a bit with each version, for this exercise it is reccomended to use the nasdaq api at `https://data.nasdaq.com/api/v3/`. This is the same api as what used to be quandl so `https://www.quandl.com/api/v3/` should work too.\n",
    "\n",
    "Hint: We are looking for the `AFX_X` data on the `datasets/FSE/` dataset."
   ]
  },
  {
   "cell_type": "code",
   "execution_count": 104,
   "metadata": {},
   "outputs": [],
   "source": [
    "# Now, call the Nasdaq API and pull out a small sample of the data (only one day) to get a glimpse\n",
    "# into the JSON structure that will be returned\n",
    "url = 'https://data.nasdaq.com/api/v3/datasets/FSE/AFX_X/data.json?APIkey'\n",
    "\n",
    "r = rsqt.get(url)\n",
    "\n",
    "json_data = r.json()"
   ]
  },
  {
   "cell_type": "code",
   "execution_count": 4,
   "metadata": {},
   "outputs": [
    {
     "data": {
      "text/plain": [
       "{'dataset': {'id': 10095370,\n",
       "  'dataset_code': 'AFX_X',\n",
       "  'database_code': 'FSE',\n",
       "  'name': 'Carl Zeiss Meditec (AFX_X)',\n",
       "  'description': 'Stock Prices for Carl Zeiss Meditec (2020-11-02) from the Frankfurt Stock Exchange.<br><br>Trading System: Xetra<br><br>ISIN: DE0005313704',\n",
       "  'refreshed_at': '2020-12-01T14:48:09.907Z',\n",
       "  'newest_available_date': '2020-12-01',\n",
       "  'oldest_available_date': '2000-06-07',\n",
       "  'column_names': ['Date',\n",
       "   'Open',\n",
       "   'High',\n",
       "   'Low',\n",
       "   'Close',\n",
       "   'Change',\n",
       "   'Traded Volume',\n",
       "   'Turnover',\n",
       "   'Last Price of the Day',\n",
       "   'Daily Traded Units',\n",
       "   'Daily Turnover'],\n",
       "  'frequency': 'daily',\n",
       "  'type': 'Time Series',\n",
       "  'premium': False,\n",
       "  'limit': None,\n",
       "  'transform': None,\n",
       "  'column_index': None,\n",
       "  'start_date': '2021-01-03',\n",
       "  'end_date': '2020-12-01',\n",
       "  'data': [],\n",
       "  'collapse': None,\n",
       "  'order': None,\n",
       "  'database_id': 6129}}"
      ]
     },
     "execution_count": 4,
     "metadata": {},
     "output_type": "execute_result"
    }
   ],
   "source": [
    "# Inspect the JSON structure of the object you created, and take note of how nested it is,\n",
    "# as well as the overall structure"
   ]
  },
  {
   "cell_type": "markdown",
   "metadata": {},
   "source": [
    "These are your tasks for this mini project:\n",
    "\n",
    "1. Collect data from the Franfurt Stock Exchange, for the ticker AFX_X, for the whole year 2017 (keep in mind that the date format is YYYY-MM-DD).\n",
    "2. Convert the returned JSON object into a Python dictionary.\n",
    "3. Calculate what the highest and lowest opening prices were for the stock in this period.\n",
    "4. What was the largest change in any one day (based on High and Low price)?\n",
    "5. What was the largest change between any two days (based on Closing Price)?\n",
    "6. What was the average daily trading volume during this year?\n",
    "7. (Optional) What was the median trading volume during this year. (Note: you may need to implement your own function for calculating the median.)"
   ]
  },
  {
   "cell_type": "code",
   "execution_count": 33,
   "metadata": {},
   "outputs": [
    {
     "name": "stdout",
     "output_type": "stream",
     "text": [
      "['Open', 'High', 'Low', 'Close', 'Change', 'Traded Volume', 'Turnover', 'Last Price of the Day', 'Daily Traded Units', 'Daily Turnover']\n"
     ]
    }
   ],
   "source": [
    "columns = json_data['dataset_data']['column_names']\n",
    "columns = columns[1:]\n",
    "\n",
    "data = json_data['dataset_data']['data']\n",
    "\n",
    "data_2017 = [v for v in data if v[0][:4]=='2017']\n",
    "\n",
    "print(columns)"
   ]
  },
  {
   "cell_type": "code",
   "execution_count": 93,
   "metadata": {},
   "outputs": [
    {
     "name": "stdout",
     "output_type": "stream",
     "text": [
      "[('2017-12-29', {'Open': 51.76, 'High': 51.94, 'Low': 51.45, 'Close': 51.76, 'Change': None, 'Traded Volume': 34640.0, 'Turnover': 1792304.0, 'Last Price of the Day': None, 'Daily Traded Units': None, 'Daily Turnover': None}), ('2017-12-28', {'Open': 51.65, 'High': 51.82, 'Low': 51.43, 'Close': 51.6, 'Change': None, 'Traded Volume': 40660.0, 'Turnover': 2099024.0, 'Last Price of the Day': None, 'Daily Traded Units': None, 'Daily Turnover': None}), ('2017-12-27', {'Open': 51.45, 'High': 51.89, 'Low': 50.76, 'Close': 51.82, 'Change': None, 'Traded Volume': 57452.0, 'Turnover': 2957018.0, 'Last Price of the Day': None, 'Daily Traded Units': None, 'Daily Turnover': None}), ('2017-12-22', {'Open': 51.05, 'High': 51.5, 'Low': 50.92, 'Close': 51.32, 'Change': None, 'Traded Volume': 71165.0, 'Turnover': 3641949.0, 'Last Price of the Day': None, 'Daily Traded Units': None, 'Daily Turnover': None}), ('2017-12-21', {'Open': 51.16, 'High': 51.52, 'Low': 50.9, 'Close': 51.4, 'Change': None, 'Traded Volume': 120649.0, 'Turnover': 6179433.0, 'Last Price of the Day': None, 'Daily Traded Units': None, 'Daily Turnover': None})]\n",
      "\n",
      "[('2017-01-06', {'Open': 34.91, 'High': 35.21, 'Low': 34.91, 'Close': 35.04, 'Change': None, 'Traded Volume': 27507.0, 'Turnover': 964046.0, 'Last Price of the Day': None, 'Daily Traded Units': None, 'Daily Turnover': None}), ('2017-01-05', {'Open': 35.02, 'High': 35.2, 'Low': 34.73, 'Close': 35.06, 'Change': None, 'Traded Volume': 48412.0, 'Turnover': 1692326.0, 'Last Price of the Day': None, 'Daily Traded Units': None, 'Daily Turnover': None}), ('2017-01-04', {'Open': 35.48, 'High': 35.51, 'Low': 34.75, 'Close': 35.19, 'Change': None, 'Traded Volume': 54408.0, 'Turnover': 1906810.0, 'Last Price of the Day': None, 'Daily Traded Units': None, 'Daily Turnover': None}), ('2017-01-03', {'Open': 35.9, 'High': 35.93, 'Low': 35.34, 'Close': 35.48, 'Change': None, 'Traded Volume': 70618.0, 'Turnover': 2515473.0, 'Last Price of the Day': None, 'Daily Traded Units': None, 'Daily Turnover': None}), ('2017-01-02', {'Open': 34.99, 'High': 35.94, 'Low': 34.99, 'Close': 35.8, 'Change': None, 'Traded Volume': 44700.0, 'Turnover': 1590561.0, 'Last Price of the Day': None, 'Daily Traded Units': None, 'Daily Turnover': None})]\n"
     ]
    }
   ],
   "source": [
    "dict_2017 = {}\n",
    "\n",
    "for i in data_2017:\n",
    "    dict_2017[i[0]] = {}\n",
    "    \n",
    "    for ind, c in enumerate(columns):\n",
    "        dict_2017[i[0]][c] = i[ind+1]\n",
    "        \n",
    "print(list(dict_2017.items())[:5])\n",
    "print()\n",
    "print(list(dict_2017.items())[-5:])"
   ]
  },
  {
   "cell_type": "code",
   "execution_count": 102,
   "metadata": {},
   "outputs": [
    {
     "name": "stdout",
     "output_type": "stream",
     "text": [
      "The highest opening price in 2017 was: 53.11\n",
      "The lowest opening price in 2017 was 34.0\n"
     ]
    }
   ],
   "source": [
    "# Highest and lowest opening prices\n",
    "Opening_prices = [i['Open'] for i in dict_2017.values()]\n",
    "\n",
    "# There are None values in Open_prices, remove them\n",
    "for i in Opening_prices[:]:\n",
    "    if i==None:\n",
    "        Opening_prices.remove(i)\n",
    "\n",
    "\n",
    "highest= max(Opening_prices)\n",
    "lowest = min(Opening_prices)\n",
    "\n",
    "print(\"The highest opening price in 2017 was:\", highest)\n",
    "print(\"The lowest opening price in 2017 was\", lowest)"
   ]
  },
  {
   "cell_type": "code",
   "execution_count": 103,
   "metadata": {},
   "outputs": [
    {
     "name": "stdout",
     "output_type": "stream",
     "text": [
      "The largest change in one day in 2017 was: 2.81\n"
     ]
    }
   ],
   "source": [
    "# Largest Change in any one day\n",
    "daily_change = [i['High']-i['Low'] for i in dict_2017.values()]\n",
    "\n",
    "largest_change = max(daily_change)\n",
    "print('The largest change in one day in 2017 was:', round(largest_change,2))"
   ]
  },
  {
   "cell_type": "code",
   "execution_count": 89,
   "metadata": {},
   "outputs": [
    {
     "name": "stdout",
     "output_type": "stream",
     "text": [
      "The largest difference between daily closing prices in 2017 was: -2.56\n"
     ]
    }
   ],
   "source": [
    "# Largest change between two days\n",
    "daily_diff = []\n",
    "\n",
    "for i, v in enumerate(dict_2017.values()):\n",
    "\n",
    "    if i < len(dict_2017.values())-1:\n",
    "        diff = v['Close'] - list(dict_2017.values())[i+1]['Close']\n",
    "        daily_diff.append(diff)\n",
    "    \n",
    "    else:\n",
    "        break\n",
    "\n",
    "# Dates are from most recent to oldest, so differences are reversed\n",
    "\n",
    "abs_diff = [abs(i) for i in daily_diff]\n",
    "\n",
    "max_index = abs_diff.index(max(abs_diff))\n",
    "\n",
    "max_diff = daily_diff[max_index]\n",
    "\n",
    "print('The largest difference between daily closing prices in 2017 was:', round(max_diff, 2))"
   ]
  },
  {
   "cell_type": "code",
   "execution_count": 98,
   "metadata": {},
   "outputs": [
    {
     "name": "stdout",
     "output_type": "stream",
     "text": [
      "The average daily trading volume in 2017 was: 89124.34\n"
     ]
    }
   ],
   "source": [
    "# Average daily trading volume\n",
    "daily_volume = [i['Traded Volume'] for i in dict_2017.values()]\n",
    "\n",
    "avg_volume = sum(daily_volume) / len(daily_volume)\n",
    "\n",
    "print('The average daily trading volume in 2017 was:', round(avg_volume, 2))"
   ]
  },
  {
   "cell_type": "code",
   "execution_count": 101,
   "metadata": {},
   "outputs": [
    {
     "name": "stdout",
     "output_type": "stream",
     "text": [
      "The median daily trading volume in 2017 was: 76286.0\n"
     ]
    }
   ],
   "source": [
    "# Median trading volume\n",
    "\n",
    "def median(lst):\n",
    "    lst.sort()\n",
    "    middle_index = len(lst)//2\n",
    "    median = lst[middle_index]\n",
    "    \n",
    "    return median\n",
    "\n",
    "median_volume = median(daily_volume)\n",
    "\n",
    "print('The median daily trading volume in 2017 was:', median_volume)"
   ]
  }
 ],
 "metadata": {
  "interpreter": {
   "hash": "7635eb1b9d0fe97add78a7368b6b431c09bb8ad5c42e437d64abdd99821c31ae"
  },
  "kernelspec": {
   "display_name": "Python 3",
   "language": "python",
   "name": "python3"
  },
  "language_info": {
   "codemirror_mode": {
    "name": "ipython",
    "version": 3
   },
   "file_extension": ".py",
   "mimetype": "text/x-python",
   "name": "python",
   "nbconvert_exporter": "python",
   "pygments_lexer": "ipython3",
   "version": "3.8.8"
  }
 },
 "nbformat": 4,
 "nbformat_minor": 4
}
